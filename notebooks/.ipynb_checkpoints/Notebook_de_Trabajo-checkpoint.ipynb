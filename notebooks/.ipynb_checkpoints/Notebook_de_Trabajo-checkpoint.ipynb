{
 "cells": [
  {
   "cell_type": "code",
   "execution_count": 3,
   "id": "be611af5-e32c-4ec9-a528-b02dbbf5fddb",
   "metadata": {},
   "outputs": [],
   "source": [
    "import pandas as pd\n",
    "import numpy as np"
   ]
  },
  {
   "cell_type": "code",
   "execution_count": 1,
   "id": "5ced9002-39e3-467b-82a0-abe436618b99",
   "metadata": {},
   "outputs": [],
   "source": [
    "from pycaret.regression import *"
   ]
  },
  {
   "cell_type": "code",
   "execution_count": 20,
   "id": "01d495a4-5ed5-41fa-aac3-67d5ea21f0cb",
   "metadata": {},
   "outputs": [],
   "source": [
    "import mlflow"
   ]
  },
  {
   "cell_type": "code",
   "execution_count": 21,
   "id": "42354671-4b93-4b62-955e-d5e8c2bc49d7",
   "metadata": {},
   "outputs": [],
   "source": [
    "mlflow.set_tracking_uri('http://127.0.0.1:5000')"
   ]
  },
  {
   "cell_type": "code",
   "execution_count": 22,
   "id": "3d297b01-ef26-45b9-8cdf-256994cb5d59",
   "metadata": {},
   "outputs": [],
   "source": [
    "df = pd.read_csv('raw.csv')"
   ]
  },
  {
   "cell_type": "code",
   "execution_count": 23,
   "id": "b11abdb3-c94a-4889-99fd-fbf728613dd0",
   "metadata": {},
   "outputs": [],
   "source": [
    "exclude_vars = ['Posted On', 'Area Locality','Floor']"
   ]
  },
  {
   "cell_type": "code",
   "execution_count": 24,
   "id": "fc16094d-4bdd-4f14-a13c-714a1c5c3fc2",
   "metadata": {},
   "outputs": [
    {
     "data": {
      "text/html": [
       "<style type=\"text/css\">\n",
       "#T_14053_row11_col1 {\n",
       "  background-color: lightgreen;\n",
       "}\n",
       "</style>\n",
       "<table id=\"T_14053\">\n",
       "  <thead>\n",
       "    <tr>\n",
       "      <th class=\"blank level0\" >&nbsp;</th>\n",
       "      <th id=\"T_14053_level0_col0\" class=\"col_heading level0 col0\" >Description</th>\n",
       "      <th id=\"T_14053_level0_col1\" class=\"col_heading level0 col1\" >Value</th>\n",
       "    </tr>\n",
       "  </thead>\n",
       "  <tbody>\n",
       "    <tr>\n",
       "      <th id=\"T_14053_level0_row0\" class=\"row_heading level0 row0\" >0</th>\n",
       "      <td id=\"T_14053_row0_col0\" class=\"data row0 col0\" >Session id</td>\n",
       "      <td id=\"T_14053_row0_col1\" class=\"data row0 col1\" >123</td>\n",
       "    </tr>\n",
       "    <tr>\n",
       "      <th id=\"T_14053_level0_row1\" class=\"row_heading level0 row1\" >1</th>\n",
       "      <td id=\"T_14053_row1_col0\" class=\"data row1 col0\" >Target</td>\n",
       "      <td id=\"T_14053_row1_col1\" class=\"data row1 col1\" >Rent</td>\n",
       "    </tr>\n",
       "    <tr>\n",
       "      <th id=\"T_14053_level0_row2\" class=\"row_heading level0 row2\" >2</th>\n",
       "      <td id=\"T_14053_row2_col0\" class=\"data row2 col0\" >Target type</td>\n",
       "      <td id=\"T_14053_row2_col1\" class=\"data row2 col1\" >Regression</td>\n",
       "    </tr>\n",
       "    <tr>\n",
       "      <th id=\"T_14053_level0_row3\" class=\"row_heading level0 row3\" >3</th>\n",
       "      <td id=\"T_14053_row3_col0\" class=\"data row3 col0\" >Original data shape</td>\n",
       "      <td id=\"T_14053_row3_col1\" class=\"data row3 col1\" >(4746, 12)</td>\n",
       "    </tr>\n",
       "    <tr>\n",
       "      <th id=\"T_14053_level0_row4\" class=\"row_heading level0 row4\" >4</th>\n",
       "      <td id=\"T_14053_row4_col0\" class=\"data row4 col0\" >Transformed data shape</td>\n",
       "      <td id=\"T_14053_row4_col1\" class=\"data row4 col1\" >(4746, 20)</td>\n",
       "    </tr>\n",
       "    <tr>\n",
       "      <th id=\"T_14053_level0_row5\" class=\"row_heading level0 row5\" >5</th>\n",
       "      <td id=\"T_14053_row5_col0\" class=\"data row5 col0\" >Transformed train set shape</td>\n",
       "      <td id=\"T_14053_row5_col1\" class=\"data row5 col1\" >(3322, 20)</td>\n",
       "    </tr>\n",
       "    <tr>\n",
       "      <th id=\"T_14053_level0_row6\" class=\"row_heading level0 row6\" >6</th>\n",
       "      <td id=\"T_14053_row6_col0\" class=\"data row6 col0\" >Transformed test set shape</td>\n",
       "      <td id=\"T_14053_row6_col1\" class=\"data row6 col1\" >(1424, 20)</td>\n",
       "    </tr>\n",
       "    <tr>\n",
       "      <th id=\"T_14053_level0_row7\" class=\"row_heading level0 row7\" >7</th>\n",
       "      <td id=\"T_14053_row7_col0\" class=\"data row7 col0\" >Ignore features</td>\n",
       "      <td id=\"T_14053_row7_col1\" class=\"data row7 col1\" >3</td>\n",
       "    </tr>\n",
       "    <tr>\n",
       "      <th id=\"T_14053_level0_row8\" class=\"row_heading level0 row8\" >8</th>\n",
       "      <td id=\"T_14053_row8_col0\" class=\"data row8 col0\" >Ordinal features</td>\n",
       "      <td id=\"T_14053_row8_col1\" class=\"data row8 col1\" >1</td>\n",
       "    </tr>\n",
       "    <tr>\n",
       "      <th id=\"T_14053_level0_row9\" class=\"row_heading level0 row9\" >9</th>\n",
       "      <td id=\"T_14053_row9_col0\" class=\"data row9 col0\" >Numeric features</td>\n",
       "      <td id=\"T_14053_row9_col1\" class=\"data row9 col1\" >3</td>\n",
       "    </tr>\n",
       "    <tr>\n",
       "      <th id=\"T_14053_level0_row10\" class=\"row_heading level0 row10\" >10</th>\n",
       "      <td id=\"T_14053_row10_col0\" class=\"data row10 col0\" >Categorical features</td>\n",
       "      <td id=\"T_14053_row10_col1\" class=\"data row10 col1\" >5</td>\n",
       "    </tr>\n",
       "    <tr>\n",
       "      <th id=\"T_14053_level0_row11\" class=\"row_heading level0 row11\" >11</th>\n",
       "      <td id=\"T_14053_row11_col0\" class=\"data row11 col0\" >Preprocess</td>\n",
       "      <td id=\"T_14053_row11_col1\" class=\"data row11 col1\" >True</td>\n",
       "    </tr>\n",
       "    <tr>\n",
       "      <th id=\"T_14053_level0_row12\" class=\"row_heading level0 row12\" >12</th>\n",
       "      <td id=\"T_14053_row12_col0\" class=\"data row12 col0\" >Imputation type</td>\n",
       "      <td id=\"T_14053_row12_col1\" class=\"data row12 col1\" >simple</td>\n",
       "    </tr>\n",
       "    <tr>\n",
       "      <th id=\"T_14053_level0_row13\" class=\"row_heading level0 row13\" >13</th>\n",
       "      <td id=\"T_14053_row13_col0\" class=\"data row13 col0\" >Numeric imputation</td>\n",
       "      <td id=\"T_14053_row13_col1\" class=\"data row13 col1\" >mean</td>\n",
       "    </tr>\n",
       "    <tr>\n",
       "      <th id=\"T_14053_level0_row14\" class=\"row_heading level0 row14\" >14</th>\n",
       "      <td id=\"T_14053_row14_col0\" class=\"data row14 col0\" >Categorical imputation</td>\n",
       "      <td id=\"T_14053_row14_col1\" class=\"data row14 col1\" >mode</td>\n",
       "    </tr>\n",
       "    <tr>\n",
       "      <th id=\"T_14053_level0_row15\" class=\"row_heading level0 row15\" >15</th>\n",
       "      <td id=\"T_14053_row15_col0\" class=\"data row15 col0\" >Maximum one-hot encoding</td>\n",
       "      <td id=\"T_14053_row15_col1\" class=\"data row15 col1\" >25</td>\n",
       "    </tr>\n",
       "    <tr>\n",
       "      <th id=\"T_14053_level0_row16\" class=\"row_heading level0 row16\" >16</th>\n",
       "      <td id=\"T_14053_row16_col0\" class=\"data row16 col0\" >Encoding method</td>\n",
       "      <td id=\"T_14053_row16_col1\" class=\"data row16 col1\" >None</td>\n",
       "    </tr>\n",
       "    <tr>\n",
       "      <th id=\"T_14053_level0_row17\" class=\"row_heading level0 row17\" >17</th>\n",
       "      <td id=\"T_14053_row17_col0\" class=\"data row17 col0\" >Fold Generator</td>\n",
       "      <td id=\"T_14053_row17_col1\" class=\"data row17 col1\" >KFold</td>\n",
       "    </tr>\n",
       "    <tr>\n",
       "      <th id=\"T_14053_level0_row18\" class=\"row_heading level0 row18\" >18</th>\n",
       "      <td id=\"T_14053_row18_col0\" class=\"data row18 col0\" >Fold Number</td>\n",
       "      <td id=\"T_14053_row18_col1\" class=\"data row18 col1\" >10</td>\n",
       "    </tr>\n",
       "    <tr>\n",
       "      <th id=\"T_14053_level0_row19\" class=\"row_heading level0 row19\" >19</th>\n",
       "      <td id=\"T_14053_row19_col0\" class=\"data row19 col0\" >CPU Jobs</td>\n",
       "      <td id=\"T_14053_row19_col1\" class=\"data row19 col1\" >-1</td>\n",
       "    </tr>\n",
       "    <tr>\n",
       "      <th id=\"T_14053_level0_row20\" class=\"row_heading level0 row20\" >20</th>\n",
       "      <td id=\"T_14053_row20_col0\" class=\"data row20 col0\" >Use GPU</td>\n",
       "      <td id=\"T_14053_row20_col1\" class=\"data row20 col1\" >False</td>\n",
       "    </tr>\n",
       "    <tr>\n",
       "      <th id=\"T_14053_level0_row21\" class=\"row_heading level0 row21\" >21</th>\n",
       "      <td id=\"T_14053_row21_col0\" class=\"data row21 col0\" >Log Experiment</td>\n",
       "      <td id=\"T_14053_row21_col1\" class=\"data row21 col1\" >MlflowLogger</td>\n",
       "    </tr>\n",
       "    <tr>\n",
       "      <th id=\"T_14053_level0_row22\" class=\"row_heading level0 row22\" >22</th>\n",
       "      <td id=\"T_14053_row22_col0\" class=\"data row22 col0\" >Experiment Name</td>\n",
       "      <td id=\"T_14053_row22_col1\" class=\"data row22 col1\" >model_lightgbm</td>\n",
       "    </tr>\n",
       "    <tr>\n",
       "      <th id=\"T_14053_level0_row23\" class=\"row_heading level0 row23\" >23</th>\n",
       "      <td id=\"T_14053_row23_col0\" class=\"data row23 col0\" >USI</td>\n",
       "      <td id=\"T_14053_row23_col1\" class=\"data row23 col1\" >08c4</td>\n",
       "    </tr>\n",
       "  </tbody>\n",
       "</table>\n"
      ],
      "text/plain": [
       "<pandas.io.formats.style.Styler at 0x22b2a1b9310>"
      ]
     },
     "metadata": {},
     "output_type": "display_data"
    },
    {
     "name": "stderr",
     "output_type": "stream",
     "text": [
      "2023/10/13 21:59:15 INFO mlflow.tracking.fluent: Experiment with name 'model_lightgbm' does not exist. Creating a new experiment.\n"
     ]
    }
   ],
   "source": [
    "s = setup(df, target='Rent', session_id=123, ignore_features=exclude_vars,\n",
    "          experiment_name='model_lightgbm', log_experiment=True)"
   ]
  },
  {
   "cell_type": "code",
   "execution_count": 25,
   "id": "b9ea28fe-6562-43f8-9e67-8fc7cd1abfc6",
   "metadata": {},
   "outputs": [],
   "source": [
    "# best = compare_models()"
   ]
  },
  {
   "cell_type": "code",
   "execution_count": 26,
   "id": "47c23ed5-2455-4b2c-a464-dec2a3b6092d",
   "metadata": {},
   "outputs": [
    {
     "data": {
      "text/html": [],
      "text/plain": [
       "<IPython.core.display.HTML object>"
      ]
     },
     "metadata": {},
     "output_type": "display_data"
    },
    {
     "data": {
      "text/html": [
       "<style type=\"text/css\">\n",
       "#T_813f2_row10_col0, #T_813f2_row10_col1, #T_813f2_row10_col2, #T_813f2_row10_col3, #T_813f2_row10_col4, #T_813f2_row10_col5 {\n",
       "  background: yellow;\n",
       "}\n",
       "</style>\n",
       "<table id=\"T_813f2\">\n",
       "  <thead>\n",
       "    <tr>\n",
       "      <th class=\"blank level0\" >&nbsp;</th>\n",
       "      <th id=\"T_813f2_level0_col0\" class=\"col_heading level0 col0\" >MAE</th>\n",
       "      <th id=\"T_813f2_level0_col1\" class=\"col_heading level0 col1\" >MSE</th>\n",
       "      <th id=\"T_813f2_level0_col2\" class=\"col_heading level0 col2\" >RMSE</th>\n",
       "      <th id=\"T_813f2_level0_col3\" class=\"col_heading level0 col3\" >R2</th>\n",
       "      <th id=\"T_813f2_level0_col4\" class=\"col_heading level0 col4\" >RMSLE</th>\n",
       "      <th id=\"T_813f2_level0_col5\" class=\"col_heading level0 col5\" >MAPE</th>\n",
       "    </tr>\n",
       "    <tr>\n",
       "      <th class=\"index_name level0\" >Fold</th>\n",
       "      <th class=\"blank col0\" >&nbsp;</th>\n",
       "      <th class=\"blank col1\" >&nbsp;</th>\n",
       "      <th class=\"blank col2\" >&nbsp;</th>\n",
       "      <th class=\"blank col3\" >&nbsp;</th>\n",
       "      <th class=\"blank col4\" >&nbsp;</th>\n",
       "      <th class=\"blank col5\" >&nbsp;</th>\n",
       "    </tr>\n",
       "  </thead>\n",
       "  <tbody>\n",
       "    <tr>\n",
       "      <th id=\"T_813f2_level0_row0\" class=\"row_heading level0 row0\" >0</th>\n",
       "      <td id=\"T_813f2_row0_col0\" class=\"data row0 col0\" >17536.6768</td>\n",
       "      <td id=\"T_813f2_row0_col1\" class=\"data row0 col1\" >3589695689.9159</td>\n",
       "      <td id=\"T_813f2_row0_col2\" class=\"data row0 col2\" >59914.0692</td>\n",
       "      <td id=\"T_813f2_row0_col3\" class=\"data row0 col3\" >0.4960</td>\n",
       "      <td id=\"T_813f2_row0_col4\" class=\"data row0 col4\" >0.4777</td>\n",
       "      <td id=\"T_813f2_row0_col5\" class=\"data row0 col5\" >0.4394</td>\n",
       "    </tr>\n",
       "    <tr>\n",
       "      <th id=\"T_813f2_level0_row1\" class=\"row_heading level0 row1\" >1</th>\n",
       "      <td id=\"T_813f2_row1_col0\" class=\"data row1 col0\" >21944.3106</td>\n",
       "      <td id=\"T_813f2_row1_col1\" class=\"data row1 col1\" >35452591929.5244</td>\n",
       "      <td id=\"T_813f2_row1_col2\" class=\"data row1 col2\" >188288.5868</td>\n",
       "      <td id=\"T_813f2_row1_col3\" class=\"data row1 col3\" >0.0879</td>\n",
       "      <td id=\"T_813f2_row1_col4\" class=\"data row1 col4\" >0.4794</td>\n",
       "      <td id=\"T_813f2_row1_col5\" class=\"data row1 col5\" >0.3917</td>\n",
       "    </tr>\n",
       "    <tr>\n",
       "      <th id=\"T_813f2_level0_row2\" class=\"row_heading level0 row2\" >2</th>\n",
       "      <td id=\"T_813f2_row2_col0\" class=\"data row2 col0\" >11215.6283</td>\n",
       "      <td id=\"T_813f2_row2_col1\" class=\"data row2 col1\" >1041215572.9045</td>\n",
       "      <td id=\"T_813f2_row2_col2\" class=\"data row2 col2\" >32267.8721</td>\n",
       "      <td id=\"T_813f2_row2_col3\" class=\"data row2 col3\" >0.4856</td>\n",
       "      <td id=\"T_813f2_row2_col4\" class=\"data row2 col4\" >0.3927</td>\n",
       "      <td id=\"T_813f2_row2_col5\" class=\"data row2 col5\" >0.3347</td>\n",
       "    </tr>\n",
       "    <tr>\n",
       "      <th id=\"T_813f2_level0_row3\" class=\"row_heading level0 row3\" >3</th>\n",
       "      <td id=\"T_813f2_row3_col0\" class=\"data row3 col0\" >15086.9365</td>\n",
       "      <td id=\"T_813f2_row3_col1\" class=\"data row3 col1\" >2046069742.2467</td>\n",
       "      <td id=\"T_813f2_row3_col2\" class=\"data row3 col2\" >45233.5024</td>\n",
       "      <td id=\"T_813f2_row3_col3\" class=\"data row3 col3\" >0.2443</td>\n",
       "      <td id=\"T_813f2_row3_col4\" class=\"data row3 col4\" >0.4718</td>\n",
       "      <td id=\"T_813f2_row3_col5\" class=\"data row3 col5\" >0.4191</td>\n",
       "    </tr>\n",
       "    <tr>\n",
       "      <th id=\"T_813f2_level0_row4\" class=\"row_heading level0 row4\" >4</th>\n",
       "      <td id=\"T_813f2_row4_col0\" class=\"data row4 col0\" >12662.0335</td>\n",
       "      <td id=\"T_813f2_row4_col1\" class=\"data row4 col1\" >903081264.9332</td>\n",
       "      <td id=\"T_813f2_row4_col2\" class=\"data row4 col2\" >30051.3105</td>\n",
       "      <td id=\"T_813f2_row4_col3\" class=\"data row4 col3\" >0.7476</td>\n",
       "      <td id=\"T_813f2_row4_col4\" class=\"data row4 col4\" >0.4368</td>\n",
       "      <td id=\"T_813f2_row4_col5\" class=\"data row4 col5\" >0.4154</td>\n",
       "    </tr>\n",
       "    <tr>\n",
       "      <th id=\"T_813f2_level0_row5\" class=\"row_heading level0 row5\" >5</th>\n",
       "      <td id=\"T_813f2_row5_col0\" class=\"data row5 col0\" >15208.5399</td>\n",
       "      <td id=\"T_813f2_row5_col1\" class=\"data row5 col1\" >1209334867.8649</td>\n",
       "      <td id=\"T_813f2_row5_col2\" class=\"data row5 col2\" >34775.4923</td>\n",
       "      <td id=\"T_813f2_row5_col3\" class=\"data row5 col3\" >0.7407</td>\n",
       "      <td id=\"T_813f2_row5_col4\" class=\"data row5 col4\" >0.4584</td>\n",
       "      <td id=\"T_813f2_row5_col5\" class=\"data row5 col5\" >0.4109</td>\n",
       "    </tr>\n",
       "    <tr>\n",
       "      <th id=\"T_813f2_level0_row6\" class=\"row_heading level0 row6\" >6</th>\n",
       "      <td id=\"T_813f2_row6_col0\" class=\"data row6 col0\" >13174.8815</td>\n",
       "      <td id=\"T_813f2_row6_col1\" class=\"data row6 col1\" >1512366726.1563</td>\n",
       "      <td id=\"T_813f2_row6_col2\" class=\"data row6 col2\" >38889.1595</td>\n",
       "      <td id=\"T_813f2_row6_col3\" class=\"data row6 col3\" >0.4751</td>\n",
       "      <td id=\"T_813f2_row6_col4\" class=\"data row6 col4\" >0.4684</td>\n",
       "      <td id=\"T_813f2_row6_col5\" class=\"data row6 col5\" >0.3886</td>\n",
       "    </tr>\n",
       "    <tr>\n",
       "      <th id=\"T_813f2_level0_row7\" class=\"row_heading level0 row7\" >7</th>\n",
       "      <td id=\"T_813f2_row7_col0\" class=\"data row7 col0\" >10662.7201</td>\n",
       "      <td id=\"T_813f2_row7_col1\" class=\"data row7 col1\" >715649633.7334</td>\n",
       "      <td id=\"T_813f2_row7_col2\" class=\"data row7 col2\" >26751.6286</td>\n",
       "      <td id=\"T_813f2_row7_col3\" class=\"data row7 col3\" >0.6430</td>\n",
       "      <td id=\"T_813f2_row7_col4\" class=\"data row7 col4\" >0.4047</td>\n",
       "      <td id=\"T_813f2_row7_col5\" class=\"data row7 col5\" >0.3439</td>\n",
       "    </tr>\n",
       "    <tr>\n",
       "      <th id=\"T_813f2_level0_row8\" class=\"row_heading level0 row8\" >8</th>\n",
       "      <td id=\"T_813f2_row8_col0\" class=\"data row8 col0\" >13112.9483</td>\n",
       "      <td id=\"T_813f2_row8_col1\" class=\"data row8 col1\" >2230982034.8064</td>\n",
       "      <td id=\"T_813f2_row8_col2\" class=\"data row8 col2\" >47233.2725</td>\n",
       "      <td id=\"T_813f2_row8_col3\" class=\"data row8 col3\" >0.3742</td>\n",
       "      <td id=\"T_813f2_row8_col4\" class=\"data row8 col4\" >0.4537</td>\n",
       "      <td id=\"T_813f2_row8_col5\" class=\"data row8 col5\" >0.3560</td>\n",
       "    </tr>\n",
       "    <tr>\n",
       "      <th id=\"T_813f2_level0_row9\" class=\"row_heading level0 row9\" >9</th>\n",
       "      <td id=\"T_813f2_row9_col0\" class=\"data row9 col0\" >12524.1015</td>\n",
       "      <td id=\"T_813f2_row9_col1\" class=\"data row9 col1\" >1755603319.6077</td>\n",
       "      <td id=\"T_813f2_row9_col2\" class=\"data row9 col2\" >41899.9203</td>\n",
       "      <td id=\"T_813f2_row9_col3\" class=\"data row9 col3\" >0.5315</td>\n",
       "      <td id=\"T_813f2_row9_col4\" class=\"data row9 col4\" >0.4305</td>\n",
       "      <td id=\"T_813f2_row9_col5\" class=\"data row9 col5\" >0.3743</td>\n",
       "    </tr>\n",
       "    <tr>\n",
       "      <th id=\"T_813f2_level0_row10\" class=\"row_heading level0 row10\" >Mean</th>\n",
       "      <td id=\"T_813f2_row10_col0\" class=\"data row10 col0\" >14312.8777</td>\n",
       "      <td id=\"T_813f2_row10_col1\" class=\"data row10 col1\" >5045659078.1693</td>\n",
       "      <td id=\"T_813f2_row10_col2\" class=\"data row10 col2\" >54530.4814</td>\n",
       "      <td id=\"T_813f2_row10_col3\" class=\"data row10 col3\" >0.4826</td>\n",
       "      <td id=\"T_813f2_row10_col4\" class=\"data row10 col4\" >0.4474</td>\n",
       "      <td id=\"T_813f2_row10_col5\" class=\"data row10 col5\" >0.3874</td>\n",
       "    </tr>\n",
       "    <tr>\n",
       "      <th id=\"T_813f2_level0_row11\" class=\"row_heading level0 row11\" >Std</th>\n",
       "      <td id=\"T_813f2_row11_col0\" class=\"data row11 col0\" >3187.6246</td>\n",
       "      <td id=\"T_813f2_row11_col1\" class=\"data row11 col1\" >10166576825.8429</td>\n",
       "      <td id=\"T_813f2_row11_col2\" class=\"data row11 col2\" >45520.1677</td>\n",
       "      <td id=\"T_813f2_row11_col3\" class=\"data row11 col3\" >0.1974</td>\n",
       "      <td id=\"T_813f2_row11_col4\" class=\"data row11 col4\" >0.0289</td>\n",
       "      <td id=\"T_813f2_row11_col5\" class=\"data row11 col5\" >0.0330</td>\n",
       "    </tr>\n",
       "  </tbody>\n",
       "</table>\n"
      ],
      "text/plain": [
       "<pandas.io.formats.style.Styler at 0x22b3050fc10>"
      ]
     },
     "metadata": {},
     "output_type": "display_data"
    },
    {
     "data": {
      "text/html": [],
      "text/plain": [
       "<IPython.core.display.HTML object>"
      ]
     },
     "metadata": {},
     "output_type": "display_data"
    }
   ],
   "source": [
    "best = create_model('lightgbm')"
   ]
  },
  {
   "cell_type": "code",
   "execution_count": 27,
   "id": "a803e99d-8d3a-4cb3-97db-aa6e94d0670a",
   "metadata": {},
   "outputs": [
    {
     "data": {
      "text/html": [],
      "text/plain": [
       "<IPython.core.display.HTML object>"
      ]
     },
     "metadata": {},
     "output_type": "display_data"
    },
    {
     "data": {
      "text/html": [
       "<style type=\"text/css\">\n",
       "#T_f60d5_row10_col0, #T_f60d5_row10_col1, #T_f60d5_row10_col2, #T_f60d5_row10_col3, #T_f60d5_row10_col4, #T_f60d5_row10_col5 {\n",
       "  background: yellow;\n",
       "}\n",
       "</style>\n",
       "<table id=\"T_f60d5\">\n",
       "  <thead>\n",
       "    <tr>\n",
       "      <th class=\"blank level0\" >&nbsp;</th>\n",
       "      <th id=\"T_f60d5_level0_col0\" class=\"col_heading level0 col0\" >MAE</th>\n",
       "      <th id=\"T_f60d5_level0_col1\" class=\"col_heading level0 col1\" >MSE</th>\n",
       "      <th id=\"T_f60d5_level0_col2\" class=\"col_heading level0 col2\" >RMSE</th>\n",
       "      <th id=\"T_f60d5_level0_col3\" class=\"col_heading level0 col3\" >R2</th>\n",
       "      <th id=\"T_f60d5_level0_col4\" class=\"col_heading level0 col4\" >RMSLE</th>\n",
       "      <th id=\"T_f60d5_level0_col5\" class=\"col_heading level0 col5\" >MAPE</th>\n",
       "    </tr>\n",
       "    <tr>\n",
       "      <th class=\"index_name level0\" >Fold</th>\n",
       "      <th class=\"blank col0\" >&nbsp;</th>\n",
       "      <th class=\"blank col1\" >&nbsp;</th>\n",
       "      <th class=\"blank col2\" >&nbsp;</th>\n",
       "      <th class=\"blank col3\" >&nbsp;</th>\n",
       "      <th class=\"blank col4\" >&nbsp;</th>\n",
       "      <th class=\"blank col5\" >&nbsp;</th>\n",
       "    </tr>\n",
       "  </thead>\n",
       "  <tbody>\n",
       "    <tr>\n",
       "      <th id=\"T_f60d5_level0_row0\" class=\"row_heading level0 row0\" >0</th>\n",
       "      <td id=\"T_f60d5_row0_col0\" class=\"data row0 col0\" >17151.1262</td>\n",
       "      <td id=\"T_f60d5_row0_col1\" class=\"data row0 col1\" >3544750890.3677</td>\n",
       "      <td id=\"T_f60d5_row0_col2\" class=\"data row0 col2\" >59537.8106</td>\n",
       "      <td id=\"T_f60d5_row0_col3\" class=\"data row0 col3\" >0.5023</td>\n",
       "      <td id=\"T_f60d5_row0_col4\" class=\"data row0 col4\" >0.5576</td>\n",
       "      <td id=\"T_f60d5_row0_col5\" class=\"data row0 col5\" >0.4380</td>\n",
       "    </tr>\n",
       "    <tr>\n",
       "      <th id=\"T_f60d5_level0_row1\" class=\"row_heading level0 row1\" >1</th>\n",
       "      <td id=\"T_f60d5_row1_col0\" class=\"data row1 col0\" >23019.7573</td>\n",
       "      <td id=\"T_f60d5_row1_col1\" class=\"data row1 col1\" >35356443031.6662</td>\n",
       "      <td id=\"T_f60d5_row1_col2\" class=\"data row1 col2\" >188033.0903</td>\n",
       "      <td id=\"T_f60d5_row1_col3\" class=\"data row1 col3\" >0.0904</td>\n",
       "      <td id=\"T_f60d5_row1_col4\" class=\"data row1 col4\" >0.5258</td>\n",
       "      <td id=\"T_f60d5_row1_col5\" class=\"data row1 col5\" >0.4432</td>\n",
       "    </tr>\n",
       "    <tr>\n",
       "      <th id=\"T_f60d5_level0_row2\" class=\"row_heading level0 row2\" >2</th>\n",
       "      <td id=\"T_f60d5_row2_col0\" class=\"data row2 col0\" >9964.6935</td>\n",
       "      <td id=\"T_f60d5_row2_col1\" class=\"data row2 col1\" >443483401.5312</td>\n",
       "      <td id=\"T_f60d5_row2_col2\" class=\"data row2 col2\" >21059.0456</td>\n",
       "      <td id=\"T_f60d5_row2_col3\" class=\"data row2 col3\" >0.7809</td>\n",
       "      <td id=\"T_f60d5_row2_col4\" class=\"data row2 col4\" >0.3861</td>\n",
       "      <td id=\"T_f60d5_row2_col5\" class=\"data row2 col5\" >0.3239</td>\n",
       "    </tr>\n",
       "    <tr>\n",
       "      <th id=\"T_f60d5_level0_row3\" class=\"row_heading level0 row3\" >3</th>\n",
       "      <td id=\"T_f60d5_row3_col0\" class=\"data row3 col0\" >12811.9146</td>\n",
       "      <td id=\"T_f60d5_row3_col1\" class=\"data row3 col1\" >941325046.6878</td>\n",
       "      <td id=\"T_f60d5_row3_col2\" class=\"data row3 col2\" >30681.0210</td>\n",
       "      <td id=\"T_f60d5_row3_col3\" class=\"data row3 col3\" >0.6523</td>\n",
       "      <td id=\"T_f60d5_row3_col4\" class=\"data row3 col4\" >0.4457</td>\n",
       "      <td id=\"T_f60d5_row3_col5\" class=\"data row3 col5\" >0.3868</td>\n",
       "    </tr>\n",
       "    <tr>\n",
       "      <th id=\"T_f60d5_level0_row4\" class=\"row_heading level0 row4\" >4</th>\n",
       "      <td id=\"T_f60d5_row4_col0\" class=\"data row4 col0\" >11880.4413</td>\n",
       "      <td id=\"T_f60d5_row4_col1\" class=\"data row4 col1\" >867085076.8055</td>\n",
       "      <td id=\"T_f60d5_row4_col2\" class=\"data row4 col2\" >29446.3084</td>\n",
       "      <td id=\"T_f60d5_row4_col3\" class=\"data row4 col3\" >0.7577</td>\n",
       "      <td id=\"T_f60d5_row4_col4\" class=\"data row4 col4\" >0.4618</td>\n",
       "      <td id=\"T_f60d5_row4_col5\" class=\"data row4 col5\" >0.4016</td>\n",
       "    </tr>\n",
       "    <tr>\n",
       "      <th id=\"T_f60d5_level0_row5\" class=\"row_heading level0 row5\" >5</th>\n",
       "      <td id=\"T_f60d5_row5_col0\" class=\"data row5 col0\" >14968.1714</td>\n",
       "      <td id=\"T_f60d5_row5_col1\" class=\"data row5 col1\" >1318724860.2891</td>\n",
       "      <td id=\"T_f60d5_row5_col2\" class=\"data row5 col2\" >36314.2515</td>\n",
       "      <td id=\"T_f60d5_row5_col3\" class=\"data row5 col3\" >0.7173</td>\n",
       "      <td id=\"T_f60d5_row5_col4\" class=\"data row5 col4\" >0.4525</td>\n",
       "      <td id=\"T_f60d5_row5_col5\" class=\"data row5 col5\" >0.3823</td>\n",
       "    </tr>\n",
       "    <tr>\n",
       "      <th id=\"T_f60d5_level0_row6\" class=\"row_heading level0 row6\" >6</th>\n",
       "      <td id=\"T_f60d5_row6_col0\" class=\"data row6 col0\" >13206.3934</td>\n",
       "      <td id=\"T_f60d5_row6_col1\" class=\"data row6 col1\" >1244761618.9319</td>\n",
       "      <td id=\"T_f60d5_row6_col2\" class=\"data row6 col2\" >35281.1794</td>\n",
       "      <td id=\"T_f60d5_row6_col3\" class=\"data row6 col3\" >0.5680</td>\n",
       "      <td id=\"T_f60d5_row6_col4\" class=\"data row6 col4\" >0.4703</td>\n",
       "      <td id=\"T_f60d5_row6_col5\" class=\"data row6 col5\" >0.4093</td>\n",
       "    </tr>\n",
       "    <tr>\n",
       "      <th id=\"T_f60d5_level0_row7\" class=\"row_heading level0 row7\" >7</th>\n",
       "      <td id=\"T_f60d5_row7_col0\" class=\"data row7 col0\" >10470.8634</td>\n",
       "      <td id=\"T_f60d5_row7_col1\" class=\"data row7 col1\" >502313590.6077</td>\n",
       "      <td id=\"T_f60d5_row7_col2\" class=\"data row7 col2\" >22412.3535</td>\n",
       "      <td id=\"T_f60d5_row7_col3\" class=\"data row7 col3\" >0.7494</td>\n",
       "      <td id=\"T_f60d5_row7_col4\" class=\"data row7 col4\" >0.4297</td>\n",
       "      <td id=\"T_f60d5_row7_col5\" class=\"data row7 col5\" >0.3696</td>\n",
       "    </tr>\n",
       "    <tr>\n",
       "      <th id=\"T_f60d5_level0_row8\" class=\"row_heading level0 row8\" >8</th>\n",
       "      <td id=\"T_f60d5_row8_col0\" class=\"data row8 col0\" >11754.2375</td>\n",
       "      <td id=\"T_f60d5_row8_col1\" class=\"data row8 col1\" >1532237411.1117</td>\n",
       "      <td id=\"T_f60d5_row8_col2\" class=\"data row8 col2\" >39143.8042</td>\n",
       "      <td id=\"T_f60d5_row8_col3\" class=\"data row8 col3\" >0.5702</td>\n",
       "      <td id=\"T_f60d5_row8_col4\" class=\"data row8 col4\" >0.4549</td>\n",
       "      <td id=\"T_f60d5_row8_col5\" class=\"data row8 col5\" >0.3496</td>\n",
       "    </tr>\n",
       "    <tr>\n",
       "      <th id=\"T_f60d5_level0_row9\" class=\"row_heading level0 row9\" >9</th>\n",
       "      <td id=\"T_f60d5_row9_col0\" class=\"data row9 col0\" >11642.5253</td>\n",
       "      <td id=\"T_f60d5_row9_col1\" class=\"data row9 col1\" >1269258959.2176</td>\n",
       "      <td id=\"T_f60d5_row9_col2\" class=\"data row9 col2\" >35626.6608</td>\n",
       "      <td id=\"T_f60d5_row9_col3\" class=\"data row9 col3\" >0.6613</td>\n",
       "      <td id=\"T_f60d5_row9_col4\" class=\"data row9 col4\" >0.4730</td>\n",
       "      <td id=\"T_f60d5_row9_col5\" class=\"data row9 col5\" >0.3940</td>\n",
       "    </tr>\n",
       "    <tr>\n",
       "      <th id=\"T_f60d5_level0_row10\" class=\"row_heading level0 row10\" >Mean</th>\n",
       "      <td id=\"T_f60d5_row10_col0\" class=\"data row10 col0\" >13687.0124</td>\n",
       "      <td id=\"T_f60d5_row10_col1\" class=\"data row10 col1\" >4702038388.7216</td>\n",
       "      <td id=\"T_f60d5_row10_col2\" class=\"data row10 col2\" >49753.5525</td>\n",
       "      <td id=\"T_f60d5_row10_col3\" class=\"data row10 col3\" >0.6050</td>\n",
       "      <td id=\"T_f60d5_row10_col4\" class=\"data row10 col4\" >0.4657</td>\n",
       "      <td id=\"T_f60d5_row10_col5\" class=\"data row10 col5\" >0.3898</td>\n",
       "    </tr>\n",
       "    <tr>\n",
       "      <th id=\"T_f60d5_level0_row11\" class=\"row_heading level0 row11\" >Std</th>\n",
       "      <td id=\"T_f60d5_row11_col0\" class=\"data row11 col0\" >3702.9298</td>\n",
       "      <td id=\"T_f60d5_row11_col1\" class=\"data row11 col1\" >10251272286.9674</td>\n",
       "      <td id=\"T_f60d5_row11_col2\" class=\"data row11 col2\" >47187.0999</td>\n",
       "      <td id=\"T_f60d5_row11_col3\" class=\"data row11 col3\" >0.1926</td>\n",
       "      <td id=\"T_f60d5_row11_col4\" class=\"data row11 col4\" >0.0452</td>\n",
       "      <td id=\"T_f60d5_row11_col5\" class=\"data row11 col5\" >0.0348</td>\n",
       "    </tr>\n",
       "  </tbody>\n",
       "</table>\n"
      ],
      "text/plain": [
       "<pandas.io.formats.style.Styler at 0x22b29845970>"
      ]
     },
     "metadata": {},
     "output_type": "display_data"
    },
    {
     "data": {
      "text/html": [],
      "text/plain": [
       "<IPython.core.display.HTML object>"
      ]
     },
     "metadata": {},
     "output_type": "display_data"
    },
    {
     "name": "stdout",
     "output_type": "stream",
     "text": [
      "Fitting 10 folds for each of 20 candidates, totalling 200 fits\n",
      "[LightGBM] [Warning] feature_fraction is set=1.0, colsample_bytree=1.0 will be ignored. Current value: feature_fraction=1.0\n",
      "[LightGBM] [Warning] bagging_fraction is set=0.6, subsample=1.0 will be ignored. Current value: bagging_fraction=0.6\n",
      "[LightGBM] [Warning] bagging_freq is set=2, subsample_freq=0 will be ignored. Current value: bagging_freq=2\n"
     ]
    }
   ],
   "source": [
    "tuned_model = tune_model(best, n_iter=20)"
   ]
  },
  {
   "cell_type": "code",
   "execution_count": 28,
   "id": "2fade767-5b04-4dbd-bdeb-4d25a1c3fd60",
   "metadata": {},
   "outputs": [],
   "source": [
    "final = finalize_model(tuned_model)"
   ]
  },
  {
   "cell_type": "code",
   "execution_count": 29,
   "id": "31e9ace7-7065-4bad-accb-214e904beff8",
   "metadata": {},
   "outputs": [
    {
     "data": {
      "text/html": [
       "<style>#sk-container-id-2 {color: black;background-color: white;}#sk-container-id-2 pre{padding: 0;}#sk-container-id-2 div.sk-toggleable {background-color: white;}#sk-container-id-2 label.sk-toggleable__label {cursor: pointer;display: block;width: 100%;margin-bottom: 0;padding: 0.3em;box-sizing: border-box;text-align: center;}#sk-container-id-2 label.sk-toggleable__label-arrow:before {content: \"▸\";float: left;margin-right: 0.25em;color: #696969;}#sk-container-id-2 label.sk-toggleable__label-arrow:hover:before {color: black;}#sk-container-id-2 div.sk-estimator:hover label.sk-toggleable__label-arrow:before {color: black;}#sk-container-id-2 div.sk-toggleable__content {max-height: 0;max-width: 0;overflow: hidden;text-align: left;background-color: #f0f8ff;}#sk-container-id-2 div.sk-toggleable__content pre {margin: 0.2em;color: black;border-radius: 0.25em;background-color: #f0f8ff;}#sk-container-id-2 input.sk-toggleable__control:checked~div.sk-toggleable__content {max-height: 200px;max-width: 100%;overflow: auto;}#sk-container-id-2 input.sk-toggleable__control:checked~label.sk-toggleable__label-arrow:before {content: \"▾\";}#sk-container-id-2 div.sk-estimator input.sk-toggleable__control:checked~label.sk-toggleable__label {background-color: #d4ebff;}#sk-container-id-2 div.sk-label input.sk-toggleable__control:checked~label.sk-toggleable__label {background-color: #d4ebff;}#sk-container-id-2 input.sk-hidden--visually {border: 0;clip: rect(1px 1px 1px 1px);clip: rect(1px, 1px, 1px, 1px);height: 1px;margin: -1px;overflow: hidden;padding: 0;position: absolute;width: 1px;}#sk-container-id-2 div.sk-estimator {font-family: monospace;background-color: #f0f8ff;border: 1px dotted black;border-radius: 0.25em;box-sizing: border-box;margin-bottom: 0.5em;}#sk-container-id-2 div.sk-estimator:hover {background-color: #d4ebff;}#sk-container-id-2 div.sk-parallel-item::after {content: \"\";width: 100%;border-bottom: 1px solid gray;flex-grow: 1;}#sk-container-id-2 div.sk-label:hover label.sk-toggleable__label {background-color: #d4ebff;}#sk-container-id-2 div.sk-serial::before {content: \"\";position: absolute;border-left: 1px solid gray;box-sizing: border-box;top: 0;bottom: 0;left: 50%;z-index: 0;}#sk-container-id-2 div.sk-serial {display: flex;flex-direction: column;align-items: center;background-color: white;padding-right: 0.2em;padding-left: 0.2em;position: relative;}#sk-container-id-2 div.sk-item {position: relative;z-index: 1;}#sk-container-id-2 div.sk-parallel {display: flex;align-items: stretch;justify-content: center;background-color: white;position: relative;}#sk-container-id-2 div.sk-item::before, #sk-container-id-2 div.sk-parallel-item::before {content: \"\";position: absolute;border-left: 1px solid gray;box-sizing: border-box;top: 0;bottom: 0;left: 50%;z-index: -1;}#sk-container-id-2 div.sk-parallel-item {display: flex;flex-direction: column;z-index: 1;position: relative;background-color: white;}#sk-container-id-2 div.sk-parallel-item:first-child::after {align-self: flex-end;width: 50%;}#sk-container-id-2 div.sk-parallel-item:last-child::after {align-self: flex-start;width: 50%;}#sk-container-id-2 div.sk-parallel-item:only-child::after {width: 0;}#sk-container-id-2 div.sk-dashed-wrapped {border: 1px dashed gray;margin: 0 0.4em 0.5em 0.4em;box-sizing: border-box;padding-bottom: 0.4em;background-color: white;}#sk-container-id-2 div.sk-label label {font-family: monospace;font-weight: bold;display: inline-block;line-height: 1.2em;}#sk-container-id-2 div.sk-label-container {text-align: center;}#sk-container-id-2 div.sk-container {/* jupyter's `normalize.less` sets `[hidden] { display: none; }` but bootstrap.min.css set `[hidden] { display: none !important; }` so we also need the `!important` here to be able to override the default hidden behavior on the sphinx rendered scikit-learn.org. See: https://github.com/scikit-learn/scikit-learn/issues/21755 */display: inline-block !important;position: relative;}#sk-container-id-2 div.sk-text-repr-fallback {display: none;}</style><div id=\"sk-container-id-2\" class=\"sk-top-container\"><div class=\"sk-text-repr-fallback\"><pre>Pipeline(memory=Memory(location=None),\n",
       "         steps=[(&#x27;numerical_imputer&#x27;,\n",
       "                 TransformerWrapper(include=[&#x27;BHK&#x27;, &#x27;Size&#x27;, &#x27;Bathroom&#x27;],\n",
       "                                    transformer=SimpleImputer())),\n",
       "                (&#x27;categorical_imputer&#x27;,\n",
       "                 TransformerWrapper(include=[&#x27;Area Type&#x27;, &#x27;City&#x27;,\n",
       "                                             &#x27;Furnishing Status&#x27;,\n",
       "                                             &#x27;Tenant Preferred&#x27;,\n",
       "                                             &#x27;Point of Contact&#x27;],\n",
       "                                    transformer=SimpleImputer(strategy=&#x27;most_frequent&#x27;))),\n",
       "                (&#x27;ordinal_encoding&#x27;,\n",
       "                 Tra...\n",
       "                                                              handle_missing=&#x27;return_nan&#x27;,\n",
       "                                                              use_cat_names=True))),\n",
       "                (&#x27;clean_column_names&#x27;,\n",
       "                 TransformerWrapper(transformer=CleanColumnNames())),\n",
       "                (&#x27;actual_estimator&#x27;,\n",
       "                 LGBMRegressor(bagging_fraction=0.6, bagging_freq=2,\n",
       "                               feature_fraction=1.0, learning_rate=0.15,\n",
       "                               min_child_samples=61, min_split_gain=0.8,\n",
       "                               n_estimators=90, n_jobs=-1, num_leaves=70,\n",
       "                               random_state=123, reg_alpha=0.0001,\n",
       "                               reg_lambda=0.05))])</pre><b>In a Jupyter environment, please rerun this cell to show the HTML representation or trust the notebook. <br />On GitHub, the HTML representation is unable to render, please try loading this page with nbviewer.org.</b></div><div class=\"sk-container\" hidden><div class=\"sk-item sk-dashed-wrapped\"><div class=\"sk-label-container\"><div class=\"sk-label sk-toggleable\"><input class=\"sk-toggleable__control sk-hidden--visually\" id=\"sk-estimator-id-18\" type=\"checkbox\" ><label for=\"sk-estimator-id-18\" class=\"sk-toggleable__label sk-toggleable__label-arrow\">Pipeline</label><div class=\"sk-toggleable__content\"><pre>Pipeline(memory=Memory(location=None),\n",
       "         steps=[(&#x27;numerical_imputer&#x27;,\n",
       "                 TransformerWrapper(include=[&#x27;BHK&#x27;, &#x27;Size&#x27;, &#x27;Bathroom&#x27;],\n",
       "                                    transformer=SimpleImputer())),\n",
       "                (&#x27;categorical_imputer&#x27;,\n",
       "                 TransformerWrapper(include=[&#x27;Area Type&#x27;, &#x27;City&#x27;,\n",
       "                                             &#x27;Furnishing Status&#x27;,\n",
       "                                             &#x27;Tenant Preferred&#x27;,\n",
       "                                             &#x27;Point of Contact&#x27;],\n",
       "                                    transformer=SimpleImputer(strategy=&#x27;most_frequent&#x27;))),\n",
       "                (&#x27;ordinal_encoding&#x27;,\n",
       "                 Tra...\n",
       "                                                              handle_missing=&#x27;return_nan&#x27;,\n",
       "                                                              use_cat_names=True))),\n",
       "                (&#x27;clean_column_names&#x27;,\n",
       "                 TransformerWrapper(transformer=CleanColumnNames())),\n",
       "                (&#x27;actual_estimator&#x27;,\n",
       "                 LGBMRegressor(bagging_fraction=0.6, bagging_freq=2,\n",
       "                               feature_fraction=1.0, learning_rate=0.15,\n",
       "                               min_child_samples=61, min_split_gain=0.8,\n",
       "                               n_estimators=90, n_jobs=-1, num_leaves=70,\n",
       "                               random_state=123, reg_alpha=0.0001,\n",
       "                               reg_lambda=0.05))])</pre></div></div></div><div class=\"sk-serial\"><div class=\"sk-item sk-dashed-wrapped\"><div class=\"sk-label-container\"><div class=\"sk-label sk-toggleable\"><input class=\"sk-toggleable__control sk-hidden--visually\" id=\"sk-estimator-id-19\" type=\"checkbox\" ><label for=\"sk-estimator-id-19\" class=\"sk-toggleable__label sk-toggleable__label-arrow\">numerical_imputer: TransformerWrapper</label><div class=\"sk-toggleable__content\"><pre>TransformerWrapper(include=[&#x27;BHK&#x27;, &#x27;Size&#x27;, &#x27;Bathroom&#x27;],\n",
       "                   transformer=SimpleImputer())</pre></div></div></div><div class=\"sk-parallel\"><div class=\"sk-parallel-item\"><div class=\"sk-item\"><div class=\"sk-label-container\"><div class=\"sk-label sk-toggleable\"><input class=\"sk-toggleable__control sk-hidden--visually\" id=\"sk-estimator-id-20\" type=\"checkbox\" ><label for=\"sk-estimator-id-20\" class=\"sk-toggleable__label sk-toggleable__label-arrow\">transformer: SimpleImputer</label><div class=\"sk-toggleable__content\"><pre>SimpleImputer()</pre></div></div></div><div class=\"sk-serial\"><div class=\"sk-item\"><div class=\"sk-estimator sk-toggleable\"><input class=\"sk-toggleable__control sk-hidden--visually\" id=\"sk-estimator-id-21\" type=\"checkbox\" ><label for=\"sk-estimator-id-21\" class=\"sk-toggleable__label sk-toggleable__label-arrow\">SimpleImputer</label><div class=\"sk-toggleable__content\"><pre>SimpleImputer()</pre></div></div></div></div></div></div></div></div><div class=\"sk-item sk-dashed-wrapped\"><div class=\"sk-label-container\"><div class=\"sk-label sk-toggleable\"><input class=\"sk-toggleable__control sk-hidden--visually\" id=\"sk-estimator-id-22\" type=\"checkbox\" ><label for=\"sk-estimator-id-22\" class=\"sk-toggleable__label sk-toggleable__label-arrow\">categorical_imputer: TransformerWrapper</label><div class=\"sk-toggleable__content\"><pre>TransformerWrapper(include=[&#x27;Area Type&#x27;, &#x27;City&#x27;, &#x27;Furnishing Status&#x27;,\n",
       "                            &#x27;Tenant Preferred&#x27;, &#x27;Point of Contact&#x27;],\n",
       "                   transformer=SimpleImputer(strategy=&#x27;most_frequent&#x27;))</pre></div></div></div><div class=\"sk-parallel\"><div class=\"sk-parallel-item\"><div class=\"sk-item\"><div class=\"sk-label-container\"><div class=\"sk-label sk-toggleable\"><input class=\"sk-toggleable__control sk-hidden--visually\" id=\"sk-estimator-id-23\" type=\"checkbox\" ><label for=\"sk-estimator-id-23\" class=\"sk-toggleable__label sk-toggleable__label-arrow\">transformer: SimpleImputer</label><div class=\"sk-toggleable__content\"><pre>SimpleImputer(strategy=&#x27;most_frequent&#x27;)</pre></div></div></div><div class=\"sk-serial\"><div class=\"sk-item\"><div class=\"sk-estimator sk-toggleable\"><input class=\"sk-toggleable__control sk-hidden--visually\" id=\"sk-estimator-id-24\" type=\"checkbox\" ><label for=\"sk-estimator-id-24\" class=\"sk-toggleable__label sk-toggleable__label-arrow\">SimpleImputer</label><div class=\"sk-toggleable__content\"><pre>SimpleImputer(strategy=&#x27;most_frequent&#x27;)</pre></div></div></div></div></div></div></div></div><div class=\"sk-item sk-dashed-wrapped\"><div class=\"sk-label-container\"><div class=\"sk-label sk-toggleable\"><input class=\"sk-toggleable__control sk-hidden--visually\" id=\"sk-estimator-id-25\" type=\"checkbox\" ><label for=\"sk-estimator-id-25\" class=\"sk-toggleable__label sk-toggleable__label-arrow\">ordinal_encoding: TransformerWrapper</label><div class=\"sk-toggleable__content\"><pre>TransformerWrapper(include=[&#x27;Point of Contact&#x27;],\n",
       "                   transformer=OrdinalEncoder(cols=[&#x27;Point of Contact&#x27;],\n",
       "                                              handle_missing=&#x27;return_nan&#x27;,\n",
       "                                              mapping=[{&#x27;col&#x27;: &#x27;Point of &#x27;\n",
       "                                                               &#x27;Contact&#x27;,\n",
       "                                                        &#x27;data_type&#x27;: dtype(&#x27;O&#x27;),\n",
       "                                                        &#x27;mapping&#x27;: Contact Agent    0\n",
       "Contact Owner    1\n",
       "NaN             -1\n",
       "dtype: int64}]))</pre></div></div></div><div class=\"sk-parallel\"><div class=\"sk-parallel-item\"><div class=\"sk-item\"><div class=\"sk-label-container\"><div class=\"sk-label sk-toggleable\"><input class=\"sk-toggleable__control sk-hidden--visually\" id=\"sk-estimator-id-26\" type=\"checkbox\" ><label for=\"sk-estimator-id-26\" class=\"sk-toggleable__label sk-toggleable__label-arrow\">transformer: OrdinalEncoder</label><div class=\"sk-toggleable__content\"><pre>OrdinalEncoder(cols=[&#x27;Point of Contact&#x27;], handle_missing=&#x27;return_nan&#x27;,\n",
       "               mapping=[{&#x27;col&#x27;: &#x27;Point of Contact&#x27;, &#x27;data_type&#x27;: dtype(&#x27;O&#x27;),\n",
       "                         &#x27;mapping&#x27;: Contact Agent    0\n",
       "Contact Owner    1\n",
       "NaN             -1\n",
       "dtype: int64}])</pre></div></div></div><div class=\"sk-serial\"><div class=\"sk-item\"><div class=\"sk-estimator sk-toggleable\"><input class=\"sk-toggleable__control sk-hidden--visually\" id=\"sk-estimator-id-27\" type=\"checkbox\" ><label for=\"sk-estimator-id-27\" class=\"sk-toggleable__label sk-toggleable__label-arrow\">OrdinalEncoder</label><div class=\"sk-toggleable__content\"><pre>OrdinalEncoder(cols=[&#x27;Point of Contact&#x27;], handle_missing=&#x27;return_nan&#x27;,\n",
       "               mapping=[{&#x27;col&#x27;: &#x27;Point of Contact&#x27;, &#x27;data_type&#x27;: dtype(&#x27;O&#x27;),\n",
       "                         &#x27;mapping&#x27;: Contact Agent    0\n",
       "Contact Owner    1\n",
       "NaN             -1\n",
       "dtype: int64}])</pre></div></div></div></div></div></div></div></div><div class=\"sk-item sk-dashed-wrapped\"><div class=\"sk-label-container\"><div class=\"sk-label sk-toggleable\"><input class=\"sk-toggleable__control sk-hidden--visually\" id=\"sk-estimator-id-28\" type=\"checkbox\" ><label for=\"sk-estimator-id-28\" class=\"sk-toggleable__label sk-toggleable__label-arrow\">onehot_encoding: TransformerWrapper</label><div class=\"sk-toggleable__content\"><pre>TransformerWrapper(include=[&#x27;Area Type&#x27;, &#x27;City&#x27;, &#x27;Furnishing Status&#x27;,\n",
       "                            &#x27;Tenant Preferred&#x27;],\n",
       "                   transformer=OneHotEncoder(cols=[&#x27;Area Type&#x27;, &#x27;City&#x27;,\n",
       "                                                   &#x27;Furnishing Status&#x27;,\n",
       "                                                   &#x27;Tenant Preferred&#x27;],\n",
       "                                             handle_missing=&#x27;return_nan&#x27;,\n",
       "                                             use_cat_names=True))</pre></div></div></div><div class=\"sk-parallel\"><div class=\"sk-parallel-item\"><div class=\"sk-item\"><div class=\"sk-label-container\"><div class=\"sk-label sk-toggleable\"><input class=\"sk-toggleable__control sk-hidden--visually\" id=\"sk-estimator-id-29\" type=\"checkbox\" ><label for=\"sk-estimator-id-29\" class=\"sk-toggleable__label sk-toggleable__label-arrow\">transformer: OneHotEncoder</label><div class=\"sk-toggleable__content\"><pre>OneHotEncoder(cols=[&#x27;Area Type&#x27;, &#x27;City&#x27;, &#x27;Furnishing Status&#x27;,\n",
       "                    &#x27;Tenant Preferred&#x27;],\n",
       "              handle_missing=&#x27;return_nan&#x27;, use_cat_names=True)</pre></div></div></div><div class=\"sk-serial\"><div class=\"sk-item\"><div class=\"sk-estimator sk-toggleable\"><input class=\"sk-toggleable__control sk-hidden--visually\" id=\"sk-estimator-id-30\" type=\"checkbox\" ><label for=\"sk-estimator-id-30\" class=\"sk-toggleable__label sk-toggleable__label-arrow\">OneHotEncoder</label><div class=\"sk-toggleable__content\"><pre>OneHotEncoder(cols=[&#x27;Area Type&#x27;, &#x27;City&#x27;, &#x27;Furnishing Status&#x27;,\n",
       "                    &#x27;Tenant Preferred&#x27;],\n",
       "              handle_missing=&#x27;return_nan&#x27;, use_cat_names=True)</pre></div></div></div></div></div></div></div></div><div class=\"sk-item sk-dashed-wrapped\"><div class=\"sk-label-container\"><div class=\"sk-label sk-toggleable\"><input class=\"sk-toggleable__control sk-hidden--visually\" id=\"sk-estimator-id-31\" type=\"checkbox\" ><label for=\"sk-estimator-id-31\" class=\"sk-toggleable__label sk-toggleable__label-arrow\">clean_column_names: TransformerWrapper</label><div class=\"sk-toggleable__content\"><pre>TransformerWrapper(transformer=CleanColumnNames())</pre></div></div></div><div class=\"sk-parallel\"><div class=\"sk-parallel-item\"><div class=\"sk-item\"><div class=\"sk-label-container\"><div class=\"sk-label sk-toggleable\"><input class=\"sk-toggleable__control sk-hidden--visually\" id=\"sk-estimator-id-32\" type=\"checkbox\" ><label for=\"sk-estimator-id-32\" class=\"sk-toggleable__label sk-toggleable__label-arrow\">transformer: CleanColumnNames</label><div class=\"sk-toggleable__content\"><pre>CleanColumnNames()</pre></div></div></div><div class=\"sk-serial\"><div class=\"sk-item\"><div class=\"sk-estimator sk-toggleable\"><input class=\"sk-toggleable__control sk-hidden--visually\" id=\"sk-estimator-id-33\" type=\"checkbox\" ><label for=\"sk-estimator-id-33\" class=\"sk-toggleable__label sk-toggleable__label-arrow\">CleanColumnNames</label><div class=\"sk-toggleable__content\"><pre>CleanColumnNames()</pre></div></div></div></div></div></div></div></div><div class=\"sk-item\"><div class=\"sk-estimator sk-toggleable\"><input class=\"sk-toggleable__control sk-hidden--visually\" id=\"sk-estimator-id-34\" type=\"checkbox\" ><label for=\"sk-estimator-id-34\" class=\"sk-toggleable__label sk-toggleable__label-arrow\">LGBMRegressor</label><div class=\"sk-toggleable__content\"><pre>LGBMRegressor(bagging_fraction=0.6, bagging_freq=2, feature_fraction=1.0,\n",
       "              learning_rate=0.15, min_child_samples=61, min_split_gain=0.8,\n",
       "              n_estimators=90, n_jobs=-1, num_leaves=70, random_state=123,\n",
       "              reg_alpha=0.0001, reg_lambda=0.05)</pre></div></div></div></div></div></div></div>"
      ],
      "text/plain": [
       "Pipeline(memory=Memory(location=None),\n",
       "         steps=[('numerical_imputer',\n",
       "                 TransformerWrapper(include=['BHK', 'Size', 'Bathroom'],\n",
       "                                    transformer=SimpleImputer())),\n",
       "                ('categorical_imputer',\n",
       "                 TransformerWrapper(include=['Area Type', 'City',\n",
       "                                             'Furnishing Status',\n",
       "                                             'Tenant Preferred',\n",
       "                                             'Point of Contact'],\n",
       "                                    transformer=SimpleImputer(strategy='most_frequent'))),\n",
       "                ('ordinal_encoding',\n",
       "                 Tra...\n",
       "                                                              handle_missing='return_nan',\n",
       "                                                              use_cat_names=True))),\n",
       "                ('clean_column_names',\n",
       "                 TransformerWrapper(transformer=CleanColumnNames())),\n",
       "                ('actual_estimator',\n",
       "                 LGBMRegressor(bagging_fraction=0.6, bagging_freq=2,\n",
       "                               feature_fraction=1.0, learning_rate=0.15,\n",
       "                               min_child_samples=61, min_split_gain=0.8,\n",
       "                               n_estimators=90, n_jobs=-1, num_leaves=70,\n",
       "                               random_state=123, reg_alpha=0.0001,\n",
       "                               reg_lambda=0.05))])"
      ]
     },
     "execution_count": 29,
     "metadata": {},
     "output_type": "execute_result"
    }
   ],
   "source": [
    "final"
   ]
  },
  {
   "cell_type": "code",
   "execution_count": 13,
   "id": "95e54f9d-381d-45cb-acac-630ff6a4fc6c",
   "metadata": {},
   "outputs": [
    {
     "name": "stdout",
     "output_type": "stream",
     "text": [
      "Transformation Pipeline and Model Successfully Saved\n"
     ]
    },
    {
     "data": {
      "text/plain": [
       "(Pipeline(memory=Memory(location=None),\n",
       "          steps=[('numerical_imputer',\n",
       "                  TransformerWrapper(include=['BHK', 'Size', 'Bathroom'],\n",
       "                                     transformer=SimpleImputer())),\n",
       "                 ('categorical_imputer',\n",
       "                  TransformerWrapper(include=['Area Type', 'City',\n",
       "                                              'Furnishing Status',\n",
       "                                              'Tenant Preferred',\n",
       "                                              'Point of Contact'],\n",
       "                                     transformer=SimpleImputer(strategy='most_frequent'))),\n",
       "                 ('ordinal_encoding',\n",
       "                  Tra...\n",
       "                                                               handle_missing='return_nan',\n",
       "                                                               use_cat_names=True))),\n",
       "                 ('clean_column_names',\n",
       "                  TransformerWrapper(transformer=CleanColumnNames())),\n",
       "                 ('actual_estimator',\n",
       "                  LGBMRegressor(bagging_fraction=0.6, bagging_freq=2,\n",
       "                                feature_fraction=1.0, learning_rate=0.15,\n",
       "                                min_child_samples=61, min_split_gain=0.8,\n",
       "                                n_estimators=90, n_jobs=-1, num_leaves=70,\n",
       "                                random_state=123, reg_alpha=0.0001,\n",
       "                                reg_lambda=0.05))]),\n",
       " 'model_lgb.pkl')"
      ]
     },
     "execution_count": 13,
     "metadata": {},
     "output_type": "execute_result"
    }
   ],
   "source": [
    "save_model(final, 'model_lgb')"
   ]
  },
  {
   "cell_type": "code",
   "execution_count": null,
   "id": "f4904aed-a5c8-4864-9ce2-b50279495c60",
   "metadata": {},
   "outputs": [],
   "source": []
  },
  {
   "cell_type": "code",
   "execution_count": 14,
   "id": "ebc768f5-584f-4ea9-b752-f171f4c42500",
   "metadata": {},
   "outputs": [
    {
     "data": {
      "application/vnd.jupyter.widget-view+json": {
       "model_id": "11c7d61620a04227833dc59375622f2a",
       "version_major": 2,
       "version_minor": 0
      },
      "text/plain": [
       "interactive(children=(ToggleButtons(description='Plot Type:', icons=('',), options=(('Pipeline Plot', 'pipelin…"
      ]
     },
     "metadata": {},
     "output_type": "display_data"
    }
   ],
   "source": [
    "evaluate_model(final)"
   ]
  },
  {
   "cell_type": "code",
   "execution_count": 17,
   "id": "8532428b-d192-4188-85f7-b64d6fbc6ba3",
   "metadata": {},
   "outputs": [
    {
     "name": "stdout",
     "output_type": "stream",
     "text": [
      "Collecting shap\n",
      "  Downloading shap-0.43.0-cp38-cp38-win_amd64.whl (447 kB)\n",
      "Requirement already satisfied: cloudpickle in d:\\trabajo\\dmc\\202309\\bnp\\bnp_env\\lib\\site-packages (from shap) (2.2.1)\n",
      "Requirement already satisfied: scipy in d:\\trabajo\\dmc\\202309\\bnp\\bnp_env\\lib\\site-packages (from shap) (1.10.1)\n",
      "Requirement already satisfied: pandas in d:\\trabajo\\dmc\\202309\\bnp\\bnp_env\\lib\\site-packages (from shap) (1.5.3)\n",
      "Requirement already satisfied: tqdm>=4.27.0 in d:\\trabajo\\dmc\\202309\\bnp\\bnp_env\\lib\\site-packages (from shap) (4.66.1)\n",
      "Requirement already satisfied: numba in d:\\trabajo\\dmc\\202309\\bnp\\bnp_env\\lib\\site-packages (from shap) (0.58.0)\n",
      "Collecting slicer==0.0.7\n",
      "  Using cached slicer-0.0.7-py3-none-any.whl (14 kB)\n",
      "Requirement already satisfied: scikit-learn in d:\\trabajo\\dmc\\202309\\bnp\\bnp_env\\lib\\site-packages (from shap) (1.2.2)\n",
      "Requirement already satisfied: packaging>20.9 in d:\\trabajo\\dmc\\202309\\bnp\\bnp_env\\lib\\site-packages (from shap) (23.2)\n",
      "Requirement already satisfied: numpy in d:\\trabajo\\dmc\\202309\\bnp\\bnp_env\\lib\\site-packages (from shap) (1.23.5)\n",
      "Requirement already satisfied: pytz>=2020.1 in d:\\trabajo\\dmc\\202309\\bnp\\bnp_env\\lib\\site-packages (from pandas->shap) (2023.3.post1)\n",
      "Requirement already satisfied: python-dateutil>=2.8.1 in d:\\trabajo\\dmc\\202309\\bnp\\bnp_env\\lib\\site-packages (from pandas->shap) (2.8.2)\n",
      "Requirement already satisfied: colorama; platform_system == \"Windows\" in d:\\trabajo\\dmc\\202309\\bnp\\bnp_env\\lib\\site-packages (from tqdm>=4.27.0->shap) (0.4.6)\n",
      "Requirement already satisfied: importlib-metadata; python_version < \"3.9\" in d:\\trabajo\\dmc\\202309\\bnp\\bnp_env\\lib\\site-packages (from numba->shap) (6.8.0)\n",
      "Requirement already satisfied: llvmlite<0.42,>=0.41.0dev0 in d:\\trabajo\\dmc\\202309\\bnp\\bnp_env\\lib\\site-packages (from numba->shap) (0.41.0)\n",
      "Requirement already satisfied: joblib>=1.1.1 in d:\\trabajo\\dmc\\202309\\bnp\\bnp_env\\lib\\site-packages (from scikit-learn->shap) (1.3.2)\n",
      "Requirement already satisfied: threadpoolctl>=2.0.0 in d:\\trabajo\\dmc\\202309\\bnp\\bnp_env\\lib\\site-packages (from scikit-learn->shap) (3.2.0)\n",
      "Requirement already satisfied: six>=1.5 in d:\\trabajo\\dmc\\202309\\bnp\\bnp_env\\lib\\site-packages (from python-dateutil>=2.8.1->pandas->shap) (1.16.0)\n",
      "Requirement already satisfied: zipp>=0.5 in d:\\trabajo\\dmc\\202309\\bnp\\bnp_env\\lib\\site-packages (from importlib-metadata; python_version < \"3.9\"->numba->shap) (3.17.0)\n",
      "Installing collected packages: slicer, shap\n",
      "Successfully installed shap-0.43.0 slicer-0.0.7\n"
     ]
    },
    {
     "name": "stderr",
     "output_type": "stream",
     "text": [
      "WARNING: You are using pip version 20.1.1; however, version 23.2.1 is available.\n",
      "You should consider upgrading via the 'd:\\trabajo\\dmc\\202309\\bnp\\bnp_env\\scripts\\python.exe -m pip install --upgrade pip' command.\n"
     ]
    }
   ],
   "source": [
    "!pip install shap"
   ]
  },
  {
   "cell_type": "code",
   "execution_count": 19,
   "id": "0450ad29-70f8-4739-bad9-cd505a534ce4",
   "metadata": {},
   "outputs": [],
   "source": [
    "#interpret_model(tuned_model)"
   ]
  },
  {
   "cell_type": "code",
   "execution_count": null,
   "id": "7ed2c884-ab13-4c61-a77b-493f1a27ccce",
   "metadata": {},
   "outputs": [],
   "source": []
  }
 ],
 "metadata": {
  "kernelspec": {
   "display_name": "Python 3 (ipykernel)",
   "language": "python",
   "name": "python3"
  },
  "language_info": {
   "codemirror_mode": {
    "name": "ipython",
    "version": 3
   },
   "file_extension": ".py",
   "mimetype": "text/x-python",
   "name": "python",
   "nbconvert_exporter": "python",
   "pygments_lexer": "ipython3",
   "version": "3.8.5"
  }
 },
 "nbformat": 4,
 "nbformat_minor": 5
}
